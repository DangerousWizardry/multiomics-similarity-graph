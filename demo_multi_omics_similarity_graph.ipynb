{
 "cells": [
  {
   "cell_type": "code",
   "execution_count": 1,
   "id": "32159341",
   "metadata": {},
   "outputs": [
    {
     "name": "stdout",
     "output_type": "stream",
     "text": [
      "C:\\Users\\Admin\\Desktop\\Cours\\INSA Lyon\\S5-Génomique Médicale\\multiomics-similarity-graph\n"
     ]
    }
   ],
   "source": [
    "import pandas as pd\n",
    "import re\n",
    "import os\n",
    "import sys\n",
    "\n",
    "pwd = os.getcwd()\n",
    "print(pwd)\n",
    "sys.path.append(os.path.join(pwd, 'bin'))"
   ]
  },
  {
   "cell_type": "code",
   "execution_count": 2,
   "id": "c2c0b06e",
   "metadata": {},
   "outputs": [
    {
     "name": "stderr",
     "output_type": "stream",
     "text": [
      "c:\\users\\admin\\appdata\\local\\programs\\python\\python37\\lib\\site-packages\\tqdm\\auto.py:21: TqdmWarning: IProgress not found. Please update jupyter and ipywidgets. See https://ipywidgets.readthedocs.io/en/stable/user_install.html\n",
      "  from .autonotebook import tqdm as notebook_tqdm\n"
     ]
    }
   ],
   "source": [
    "from similarity import * "
   ]
  },
  {
   "cell_type": "code",
   "execution_count": 3,
   "id": "986dfe38",
   "metadata": {},
   "outputs": [],
   "source": [
    "preprocessed_data = pd.read_csv(\"data/PRCESSED-MTBLS17/intensities_decorrel_log_std.csv\")\n",
    "preprocessed_data.drop(columns=preprocessed_data.columns[0], axis=1,  inplace=True)\n",
    "X = preprocessed_data.iloc[:, 2:]"
   ]
  },
  {
   "cell_type": "code",
   "execution_count": 4,
   "id": "6310743b",
   "metadata": {},
   "outputs": [
    {
     "name": "stderr",
     "output_type": "stream",
     "text": [
      "100%|██████████| 864/864 [02:09<00:00,  6.68it/s]\n"
     ]
    }
   ],
   "source": [
    "matrix = getSimilarityMatrix(X)"
   ]
  },
  {
   "cell_type": "code",
   "execution_count": 5,
   "id": "d786c2dc",
   "metadata": {},
   "outputs": [],
   "source": [
    "from similarity_graph_tool import *"
   ]
  },
  {
   "cell_type": "code",
   "execution_count": 6,
   "id": "62640d57",
   "metadata": {},
   "outputs": [],
   "source": [
    "labels = preprocessed_data.iloc[:,1].values"
   ]
  },
  {
   "cell_type": "code",
   "execution_count": 7,
   "id": "2701748f",
   "metadata": {},
   "outputs": [
    {
     "name": "stderr",
     "output_type": "stream",
     "text": [
      "100%|██████████| 864/864 [02:19<00:00,  6.17it/s]\n"
     ]
    },
    {
     "name": "stdout",
     "output_type": "stream",
     "text": [
      "Graph has been generated in cwd\n"
     ]
    }
   ],
   "source": [
    "create_graph(matrix,labels)"
   ]
  }
 ],
 "metadata": {
  "kernelspec": {
   "display_name": "Python 3 (ipykernel)",
   "language": "python",
   "name": "python3"
  },
  "language_info": {
   "codemirror_mode": {
    "name": "ipython",
    "version": 3
   },
   "file_extension": ".py",
   "mimetype": "text/x-python",
   "name": "python",
   "nbconvert_exporter": "python",
   "pygments_lexer": "ipython3",
   "version": "3.7.9"
  }
 },
 "nbformat": 4,
 "nbformat_minor": 5
}
