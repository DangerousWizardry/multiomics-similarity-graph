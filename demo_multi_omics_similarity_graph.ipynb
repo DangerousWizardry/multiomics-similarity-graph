{
 "cells": [
  {
   "cell_type": "code",
   "execution_count": null,
   "id": "32159341",
   "metadata": {},
   "outputs": [],
   "source": [
    "import pandas as pd\n",
    "import re\n",
    "import os\n",
    "import sys\n",
    "\n",
    "pwd = os.getcwd()\n",
    "print(pwd)\n",
    "sys.path.append(os.path.join(pwd, 'bin'))"
   ]
  },
  {
   "cell_type": "code",
   "execution_count": null,
   "id": "c2c0b06e",
   "metadata": {},
   "outputs": [],
   "source": [
    "from similarity import * "
   ]
  },
  {
   "cell_type": "code",
   "execution_count": null,
   "id": "986dfe38",
   "metadata": {},
   "outputs": [],
   "source": [
    "preprocessed_data = pd.read_csv(\"data/PRCESSED-MTBLS17/intensities_decorrel_log_std.csv\")\n",
    "preprocessed_data.drop(columns=preprocessed_data.columns[0], axis=1,  inplace=True)\n",
    "X = preprocessed_data.iloc[:, 2:]"
   ]
  },
  {
   "cell_type": "code",
   "execution_count": null,
   "id": "6310743b",
   "metadata": {},
   "outputs": [],
   "source": [
    "matrix = getSimilarityMatrix(X)"
   ]
  },
  {
   "cell_type": "code",
   "execution_count": null,
   "id": "d786c2dc",
   "metadata": {},
   "outputs": [],
   "source": [
    "from similarity_graph_tool import *"
   ]
  },
  {
   "cell_type": "code",
   "execution_count": null,
   "id": "62640d57",
   "metadata": {},
   "outputs": [],
   "source": [
    "labels = preprocessed_data.iloc[:,1].values"
   ]
  },
  {
   "cell_type": "code",
   "execution_count": null,
   "id": "2701748f",
   "metadata": {},
   "outputs": [],
   "source": [
    "create_graph(matrix,labels)"
   ]
  }
 ],
 "metadata": {
  "kernelspec": {
   "display_name": "Python 3 (ipykernel)",
   "language": "python",
   "name": "python3"
  },
  "language_info": {
   "codemirror_mode": {
    "name": "ipython",
    "version": 3
   },
   "file_extension": ".py",
   "mimetype": "text/x-python",
   "name": "python",
   "nbconvert_exporter": "python",
   "pygments_lexer": "ipython3",
   "version": "3.7.9"
  }
 },
 "nbformat": 4,
 "nbformat_minor": 5
}
