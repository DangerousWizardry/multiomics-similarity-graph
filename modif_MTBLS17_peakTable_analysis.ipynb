{
 "cells": [
  {
   "cell_type": "markdown",
   "id": "50ead7fe-3b15-4e2d-8708-9f4d47130da0",
   "metadata": {},
   "source": [
    "# 0 - Import modules"
   ]
  },
  {
   "cell_type": "code",
   "execution_count": 1,
   "id": "166691af-a14d-44d4-9ef9-6d741c04a9b9",
   "metadata": {},
   "outputs": [],
   "source": [
    "import pandas as pd\n",
    "import seaborn as sns\n",
    "import matplotlib.pyplot as plt\n",
    "import random\n",
    "import cimcb_lite as cb"
   ]
  },
  {
   "cell_type": "code",
   "execution_count": null,
   "id": "0a3d9069",
   "metadata": {},
   "outputs": [],
   "source": []
  },
  {
   "cell_type": "code",
   "execution_count": 2,
   "id": "f5df7979-f536-4706-b05b-25ef905357b3",
   "metadata": {},
   "outputs": [
    {
     "name": "stdout",
     "output_type": "stream",
     "text": [
      "C:\\Users\\Admin\\Desktop\\Cours\\INSA Lyon\\S5-Génomique Médicale\\multiomics-similarity-graph\n"
     ]
    }
   ],
   "source": [
    "import re\n",
    "import os\n",
    "pwd = os.getcwd()\n",
    "print(pwd)"
   ]
  },
  {
   "cell_type": "code",
   "execution_count": 3,
   "id": "2aa971f7-c273-4b46-bc48-0b0acf15593c",
   "metadata": {},
   "outputs": [],
   "source": [
    "# Tune the visual settings for figures in seaborn\n",
    "sns.set_context(\n",
    "    \"notebook\", font_scale=1.2, rc={\"figure.figsize\": (15,8), \"axes.titlesize\": 15}\n",
    ")\n",
    "\n",
    "from matplotlib import rcParams\n",
    "\n",
    "rcParams[\"figure.figsize\"] = 15, 8\n",
    "\n",
    "sns.set_theme(style=\"darkgrid\")"
   ]
  },
  {
   "cell_type": "code",
   "execution_count": 8,
   "id": "0893cd5e-71db-426c-997d-a85f5169a9dc",
   "metadata": {},
   "outputs": [],
   "source": [
    "import sys\n",
    "sys.path.append(os.path.join(pwd, 'bin'))"
   ]
  },
  {
   "cell_type": "markdown",
   "id": "d9a76833-c7ba-4175-9b63-36de486d044b",
   "metadata": {},
   "source": [
    "# 0 - Import data"
   ]
  },
  {
   "cell_type": "code",
   "execution_count": 5,
   "id": "ab3f014c-1226-4a8d-b607-b5823191d3fb",
   "metadata": {},
   "outputs": [
    {
     "name": "stdout",
     "output_type": "stream",
     "text": [
      "Peak table shape : (1586, 388)\n"
     ]
    },
    {
     "data": {
      "text/html": [
       "<div>\n",
       "<style scoped>\n",
       "    .dataframe tbody tr th:only-of-type {\n",
       "        vertical-align: middle;\n",
       "    }\n",
       "\n",
       "    .dataframe tbody tr th {\n",
       "        vertical-align: top;\n",
       "    }\n",
       "\n",
       "    .dataframe thead th {\n",
       "        text-align: right;\n",
       "    }\n",
       "</style>\n",
       "<table border=\"1\" class=\"dataframe\">\n",
       "  <thead>\n",
       "    <tr style=\"text-align: right;\">\n",
       "      <th></th>\n",
       "      <th>mz</th>\n",
       "      <th>mono_mz</th>\n",
       "      <th>rt</th>\n",
       "      <th>FC</th>\n",
       "      <th>TT_pv</th>\n",
       "      <th>TT_qv</th>\n",
       "      <th>WX_pv</th>\n",
       "      <th>WX_qv</th>\n",
       "      <th>Exp1_CRR_1a_POS</th>\n",
       "      <th>Exp1_CRR_1b_POS</th>\n",
       "      <th>...</th>\n",
       "      <th>Exp1_HCC_59a_POS</th>\n",
       "      <th>Exp1_HCC_59b_POS</th>\n",
       "      <th>Exp1_HCC_60a_POS</th>\n",
       "      <th>Exp1_HCC_60b_POS</th>\n",
       "      <th>Exp1_HCC_63a_POS</th>\n",
       "      <th>Exp1_HCC_63b_POS</th>\n",
       "      <th>Exp1_HCC_64a_POS</th>\n",
       "      <th>Exp1_HCC_64b_POS</th>\n",
       "      <th>isotopes</th>\n",
       "      <th>adduct</th>\n",
       "    </tr>\n",
       "  </thead>\n",
       "  <tbody>\n",
       "    <tr>\n",
       "      <th>0</th>\n",
       "      <td>69.034193</td>\n",
       "      <td>69.034193</td>\n",
       "      <td>245.927310</td>\n",
       "      <td>1.064983</td>\n",
       "      <td>0.361288</td>\n",
       "      <td>0.414002</td>\n",
       "      <td>0.418035</td>\n",
       "      <td>0.440384</td>\n",
       "      <td>230.127798</td>\n",
       "      <td>587.927618</td>\n",
       "      <td>...</td>\n",
       "      <td>713.427477</td>\n",
       "      <td>797.486999</td>\n",
       "      <td>944.502223</td>\n",
       "      <td>1008.902996</td>\n",
       "      <td>989.869316</td>\n",
       "      <td>1050.722511</td>\n",
       "      <td>1063.436804</td>\n",
       "      <td>1149.045224</td>\n",
       "      <td>NaN</td>\n",
       "      <td>NaN</td>\n",
       "    </tr>\n",
       "    <tr>\n",
       "      <th>1</th>\n",
       "      <td>69.034752</td>\n",
       "      <td>69.034752</td>\n",
       "      <td>139.172875</td>\n",
       "      <td>1.444227</td>\n",
       "      <td>0.016183</td>\n",
       "      <td>0.091260</td>\n",
       "      <td>0.072598</td>\n",
       "      <td>0.199058</td>\n",
       "      <td>118.194026</td>\n",
       "      <td>129.710850</td>\n",
       "      <td>...</td>\n",
       "      <td>90.783984</td>\n",
       "      <td>77.323598</td>\n",
       "      <td>33.814223</td>\n",
       "      <td>30.604424</td>\n",
       "      <td>42.869602</td>\n",
       "      <td>30.771758</td>\n",
       "      <td>389.046294</td>\n",
       "      <td>424.640566</td>\n",
       "      <td>NaN</td>\n",
       "      <td>NaN</td>\n",
       "    </tr>\n",
       "    <tr>\n",
       "      <th>2</th>\n",
       "      <td>69.070384</td>\n",
       "      <td>69.070384</td>\n",
       "      <td>33.994059</td>\n",
       "      <td>1.215627</td>\n",
       "      <td>0.007724</td>\n",
       "      <td>0.078745</td>\n",
       "      <td>0.000686</td>\n",
       "      <td>0.024863</td>\n",
       "      <td>757.591222</td>\n",
       "      <td>594.600666</td>\n",
       "      <td>...</td>\n",
       "      <td>298.010732</td>\n",
       "      <td>255.891087</td>\n",
       "      <td>282.365009</td>\n",
       "      <td>246.467121</td>\n",
       "      <td>171.359314</td>\n",
       "      <td>161.726294</td>\n",
       "      <td>323.123227</td>\n",
       "      <td>288.725470</td>\n",
       "      <td>NaN</td>\n",
       "      <td>NaN</td>\n",
       "    </tr>\n",
       "    <tr>\n",
       "      <th>3</th>\n",
       "      <td>69.070545</td>\n",
       "      <td>69.070545</td>\n",
       "      <td>373.031466</td>\n",
       "      <td>1.144033</td>\n",
       "      <td>0.407307</td>\n",
       "      <td>0.442863</td>\n",
       "      <td>0.234142</td>\n",
       "      <td>0.355057</td>\n",
       "      <td>107.927970</td>\n",
       "      <td>145.488720</td>\n",
       "      <td>...</td>\n",
       "      <td>220.801553</td>\n",
       "      <td>297.617438</td>\n",
       "      <td>606.661381</td>\n",
       "      <td>785.677459</td>\n",
       "      <td>392.755907</td>\n",
       "      <td>410.149582</td>\n",
       "      <td>427.651740</td>\n",
       "      <td>376.692099</td>\n",
       "      <td>NaN</td>\n",
       "      <td>NaN</td>\n",
       "    </tr>\n",
       "    <tr>\n",
       "      <th>4</th>\n",
       "      <td>70.065640</td>\n",
       "      <td>70.065640</td>\n",
       "      <td>22.760499</td>\n",
       "      <td>-1.026797</td>\n",
       "      <td>0.671203</td>\n",
       "      <td>0.543876</td>\n",
       "      <td>0.724250</td>\n",
       "      <td>0.565184</td>\n",
       "      <td>950.757846</td>\n",
       "      <td>896.401881</td>\n",
       "      <td>...</td>\n",
       "      <td>360.511751</td>\n",
       "      <td>356.275541</td>\n",
       "      <td>270.565775</td>\n",
       "      <td>277.458326</td>\n",
       "      <td>209.780709</td>\n",
       "      <td>236.145254</td>\n",
       "      <td>201.404361</td>\n",
       "      <td>210.853556</td>\n",
       "      <td>NaN</td>\n",
       "      <td>NaN</td>\n",
       "    </tr>\n",
       "  </tbody>\n",
       "</table>\n",
       "<p>5 rows × 388 columns</p>\n",
       "</div>"
      ],
      "text/plain": [
       "          mz    mono_mz          rt        FC     TT_pv     TT_qv     WX_pv  \\\n",
       "0  69.034193  69.034193  245.927310  1.064983  0.361288  0.414002  0.418035   \n",
       "1  69.034752  69.034752  139.172875  1.444227  0.016183  0.091260  0.072598   \n",
       "2  69.070384  69.070384   33.994059  1.215627  0.007724  0.078745  0.000686   \n",
       "3  69.070545  69.070545  373.031466  1.144033  0.407307  0.442863  0.234142   \n",
       "4  70.065640  70.065640   22.760499 -1.026797  0.671203  0.543876  0.724250   \n",
       "\n",
       "      WX_qv  Exp1_CRR_1a_POS  Exp1_CRR_1b_POS  ...  Exp1_HCC_59a_POS  \\\n",
       "0  0.440384       230.127798       587.927618  ...        713.427477   \n",
       "1  0.199058       118.194026       129.710850  ...         90.783984   \n",
       "2  0.024863       757.591222       594.600666  ...        298.010732   \n",
       "3  0.355057       107.927970       145.488720  ...        220.801553   \n",
       "4  0.565184       950.757846       896.401881  ...        360.511751   \n",
       "\n",
       "   Exp1_HCC_59b_POS  Exp1_HCC_60a_POS  Exp1_HCC_60b_POS  Exp1_HCC_63a_POS  \\\n",
       "0        797.486999        944.502223       1008.902996        989.869316   \n",
       "1         77.323598         33.814223         30.604424         42.869602   \n",
       "2        255.891087        282.365009        246.467121        171.359314   \n",
       "3        297.617438        606.661381        785.677459        392.755907   \n",
       "4        356.275541        270.565775        277.458326        209.780709   \n",
       "\n",
       "   Exp1_HCC_63b_POS  Exp1_HCC_64a_POS  Exp1_HCC_64b_POS  isotopes  adduct  \n",
       "0       1050.722511       1063.436804       1149.045224       NaN     NaN  \n",
       "1         30.771758        389.046294        424.640566       NaN     NaN  \n",
       "2        161.726294        323.123227        288.725470       NaN     NaN  \n",
       "3        410.149582        427.651740        376.692099       NaN     NaN  \n",
       "4        236.145254        201.404361        210.853556       NaN     NaN  \n",
       "\n",
       "[5 rows x 388 columns]"
      ]
     },
     "execution_count": 5,
     "metadata": {},
     "output_type": "execute_result"
    }
   ],
   "source": [
    "peakTable_MTBLS17_init = pd.read_excel(os.path.join(pwd, 'data/MTBLS17/Peaklist_EXP1_POS.xlsx') , sheet_name='US_EXP1_POS_Annotated_Abbr')\n",
    "print(f'Peak table shape : {peakTable_MTBLS17_init.shape}')\n",
    "peakTable_MTBLS17_init.head()"
   ]
  },
  {
   "cell_type": "code",
   "execution_count": 6,
   "id": "1dc69977-32b7-4c74-bf7f-ae53a569a1d2",
   "metadata": {},
   "outputs": [
    {
     "name": "stdout",
     "output_type": "stream",
     "text": [
      "Metadata shape : (1050, 18)\n"
     ]
    },
    {
     "data": {
      "text/html": [
       "<div>\n",
       "<style scoped>\n",
       "    .dataframe tbody tr th:only-of-type {\n",
       "        vertical-align: middle;\n",
       "    }\n",
       "\n",
       "    .dataframe tbody tr th {\n",
       "        vertical-align: top;\n",
       "    }\n",
       "\n",
       "    .dataframe thead th {\n",
       "        text-align: right;\n",
       "    }\n",
       "</style>\n",
       "<table border=\"1\" class=\"dataframe\">\n",
       "  <thead>\n",
       "    <tr style=\"text-align: right;\">\n",
       "      <th></th>\n",
       "      <th>Source Name</th>\n",
       "      <th>Characteristics[Organism]</th>\n",
       "      <th>Term Source REF</th>\n",
       "      <th>Term Accession Number</th>\n",
       "      <th>Characteristics[Organism part]</th>\n",
       "      <th>Term Source REF.1</th>\n",
       "      <th>Term Accession Number.1</th>\n",
       "      <th>Protocol REF</th>\n",
       "      <th>Sample Name</th>\n",
       "      <th>Factor Value[Experiment]</th>\n",
       "      <th>Term Source REF.2</th>\n",
       "      <th>Term Accession Number.2</th>\n",
       "      <th>Factor Value[Disease]</th>\n",
       "      <th>Term Source REF.3</th>\n",
       "      <th>Term Accession Number.3</th>\n",
       "      <th>Factor Value[Injection]</th>\n",
       "      <th>Term Source REF.4</th>\n",
       "      <th>Term Accession Number.4</th>\n",
       "    </tr>\n",
       "  </thead>\n",
       "  <tbody>\n",
       "    <tr>\n",
       "      <th>0</th>\n",
       "      <td>Human blood serum</td>\n",
       "      <td>Homo sapiens</td>\n",
       "      <td>NCBITAXON</td>\n",
       "      <td>http://purl.bioontology.org/ontology/NCBITAXON...</td>\n",
       "      <td>blood serum</td>\n",
       "      <td>BTO</td>\n",
       "      <td>http://purl.obolibrary.org/obo/BTO_0000133</td>\n",
       "      <td>Sample collection</td>\n",
       "      <td>Exp1_CRR_1a_NEG</td>\n",
       "      <td>Exp1</td>\n",
       "      <td>NaN</td>\n",
       "      <td>NaN</td>\n",
       "      <td>CRR</td>\n",
       "      <td>NaN</td>\n",
       "      <td>NaN</td>\n",
       "      <td>Inj1</td>\n",
       "      <td>NaN</td>\n",
       "      <td>NaN</td>\n",
       "    </tr>\n",
       "    <tr>\n",
       "      <th>1</th>\n",
       "      <td>Human blood serum</td>\n",
       "      <td>Homo sapiens</td>\n",
       "      <td>NCBITAXON</td>\n",
       "      <td>http://purl.bioontology.org/ontology/NCBITAXON...</td>\n",
       "      <td>blood serum</td>\n",
       "      <td>BTO</td>\n",
       "      <td>http://purl.obolibrary.org/obo/BTO_0000133</td>\n",
       "      <td>Sample collection</td>\n",
       "      <td>Exp1_CRR_1b_NEG</td>\n",
       "      <td>Exp1</td>\n",
       "      <td>NaN</td>\n",
       "      <td>NaN</td>\n",
       "      <td>CRR</td>\n",
       "      <td>NaN</td>\n",
       "      <td>NaN</td>\n",
       "      <td>Inj2</td>\n",
       "      <td>NaN</td>\n",
       "      <td>NaN</td>\n",
       "    </tr>\n",
       "    <tr>\n",
       "      <th>2</th>\n",
       "      <td>Human blood serum</td>\n",
       "      <td>Homo sapiens</td>\n",
       "      <td>NCBITAXON</td>\n",
       "      <td>http://purl.bioontology.org/ontology/NCBITAXON...</td>\n",
       "      <td>blood serum</td>\n",
       "      <td>BTO</td>\n",
       "      <td>http://purl.obolibrary.org/obo/BTO_0000133</td>\n",
       "      <td>Sample collection</td>\n",
       "      <td>Exp1_CRR_3a_NEG</td>\n",
       "      <td>Exp1</td>\n",
       "      <td>NaN</td>\n",
       "      <td>NaN</td>\n",
       "      <td>CRR</td>\n",
       "      <td>NaN</td>\n",
       "      <td>NaN</td>\n",
       "      <td>Inj1</td>\n",
       "      <td>NaN</td>\n",
       "      <td>NaN</td>\n",
       "    </tr>\n",
       "    <tr>\n",
       "      <th>3</th>\n",
       "      <td>Human blood serum</td>\n",
       "      <td>Homo sapiens</td>\n",
       "      <td>NCBITAXON</td>\n",
       "      <td>http://purl.bioontology.org/ontology/NCBITAXON...</td>\n",
       "      <td>blood serum</td>\n",
       "      <td>BTO</td>\n",
       "      <td>http://purl.obolibrary.org/obo/BTO_0000133</td>\n",
       "      <td>Sample collection</td>\n",
       "      <td>Exp1_CRR_3b_NEG</td>\n",
       "      <td>Exp1</td>\n",
       "      <td>NaN</td>\n",
       "      <td>NaN</td>\n",
       "      <td>CRR</td>\n",
       "      <td>NaN</td>\n",
       "      <td>NaN</td>\n",
       "      <td>Inj2</td>\n",
       "      <td>NaN</td>\n",
       "      <td>NaN</td>\n",
       "    </tr>\n",
       "    <tr>\n",
       "      <th>4</th>\n",
       "      <td>Human blood serum</td>\n",
       "      <td>Homo sapiens</td>\n",
       "      <td>NCBITAXON</td>\n",
       "      <td>http://purl.bioontology.org/ontology/NCBITAXON...</td>\n",
       "      <td>blood serum</td>\n",
       "      <td>BTO</td>\n",
       "      <td>http://purl.obolibrary.org/obo/BTO_0000133</td>\n",
       "      <td>Sample collection</td>\n",
       "      <td>Exp1_CRR_4a_NEG</td>\n",
       "      <td>Exp1</td>\n",
       "      <td>NaN</td>\n",
       "      <td>NaN</td>\n",
       "      <td>CRR</td>\n",
       "      <td>NaN</td>\n",
       "      <td>NaN</td>\n",
       "      <td>Inj1</td>\n",
       "      <td>NaN</td>\n",
       "      <td>NaN</td>\n",
       "    </tr>\n",
       "  </tbody>\n",
       "</table>\n",
       "</div>"
      ],
      "text/plain": [
       "         Source Name Characteristics[Organism] Term Source REF  \\\n",
       "0  Human blood serum              Homo sapiens       NCBITAXON   \n",
       "1  Human blood serum              Homo sapiens       NCBITAXON   \n",
       "2  Human blood serum              Homo sapiens       NCBITAXON   \n",
       "3  Human blood serum              Homo sapiens       NCBITAXON   \n",
       "4  Human blood serum              Homo sapiens       NCBITAXON   \n",
       "\n",
       "                               Term Accession Number  \\\n",
       "0  http://purl.bioontology.org/ontology/NCBITAXON...   \n",
       "1  http://purl.bioontology.org/ontology/NCBITAXON...   \n",
       "2  http://purl.bioontology.org/ontology/NCBITAXON...   \n",
       "3  http://purl.bioontology.org/ontology/NCBITAXON...   \n",
       "4  http://purl.bioontology.org/ontology/NCBITAXON...   \n",
       "\n",
       "  Characteristics[Organism part] Term Source REF.1  \\\n",
       "0                    blood serum               BTO   \n",
       "1                    blood serum               BTO   \n",
       "2                    blood serum               BTO   \n",
       "3                    blood serum               BTO   \n",
       "4                    blood serum               BTO   \n",
       "\n",
       "                      Term Accession Number.1       Protocol REF  \\\n",
       "0  http://purl.obolibrary.org/obo/BTO_0000133  Sample collection   \n",
       "1  http://purl.obolibrary.org/obo/BTO_0000133  Sample collection   \n",
       "2  http://purl.obolibrary.org/obo/BTO_0000133  Sample collection   \n",
       "3  http://purl.obolibrary.org/obo/BTO_0000133  Sample collection   \n",
       "4  http://purl.obolibrary.org/obo/BTO_0000133  Sample collection   \n",
       "\n",
       "       Sample Name Factor Value[Experiment]  Term Source REF.2  \\\n",
       "0  Exp1_CRR_1a_NEG                     Exp1                NaN   \n",
       "1  Exp1_CRR_1b_NEG                     Exp1                NaN   \n",
       "2  Exp1_CRR_3a_NEG                     Exp1                NaN   \n",
       "3  Exp1_CRR_3b_NEG                     Exp1                NaN   \n",
       "4  Exp1_CRR_4a_NEG                     Exp1                NaN   \n",
       "\n",
       "   Term Accession Number.2 Factor Value[Disease]  Term Source REF.3  \\\n",
       "0                      NaN                   CRR                NaN   \n",
       "1                      NaN                   CRR                NaN   \n",
       "2                      NaN                   CRR                NaN   \n",
       "3                      NaN                   CRR                NaN   \n",
       "4                      NaN                   CRR                NaN   \n",
       "\n",
       "   Term Accession Number.3 Factor Value[Injection]  Term Source REF.4  \\\n",
       "0                      NaN                    Inj1                NaN   \n",
       "1                      NaN                    Inj2                NaN   \n",
       "2                      NaN                    Inj1                NaN   \n",
       "3                      NaN                    Inj2                NaN   \n",
       "4                      NaN                    Inj1                NaN   \n",
       "\n",
       "   Term Accession Number.4  \n",
       "0                      NaN  \n",
       "1                      NaN  \n",
       "2                      NaN  \n",
       "3                      NaN  \n",
       "4                      NaN  "
      ]
     },
     "execution_count": 6,
     "metadata": {},
     "output_type": "execute_result"
    }
   ],
   "source": [
    "metadata = pd.read_csv(os.path.join(pwd,'data/MTBLS17/s_live_mtbls17.txt'), sep='\\t')\n",
    "print(f'Metadata shape : {metadata.shape}')\n",
    "metadata.head()"
   ]
  },
  {
   "cell_type": "markdown",
   "id": "a8d2ceb9-9523-43f3-bfe1-d992f03fd8f5",
   "metadata": {},
   "source": [
    "### Below we will keep onky useful metadata"
   ]
  },
  {
   "cell_type": "markdown",
   "id": "a23243ef-7afa-43b9-bf5b-6ef3952a6f8f",
   "metadata": {
    "tags": []
   },
   "source": [
    "# 1 - Preprocess data"
   ]
  },
  {
   "cell_type": "code",
   "execution_count": 11,
   "id": "74ef633b",
   "metadata": {},
   "outputs": [
    {
     "name": "stdout",
     "output_type": "stream",
     "text": [
      "Collecting plotly\n",
      "  Obtaining dependency information for plotly from https://files.pythonhosted.org/packages/a8/07/72953cf70e3bd3a24cbc3e743e6f8539abe6e3e6d83c3c0c83426eaffd39/plotly-5.18.0-py3-none-any.whl.metadata\n",
      "  Downloading plotly-5.18.0-py3-none-any.whl.metadata (7.0 kB)\n",
      "Collecting tenacity>=6.2.0 (from plotly)\n",
      "  Obtaining dependency information for tenacity>=6.2.0 from https://files.pythonhosted.org/packages/f4/f1/990741d5bb2487d529d20a433210ffa136a367751e454214013b441c4575/tenacity-8.2.3-py3-none-any.whl.metadata\n",
      "  Downloading tenacity-8.2.3-py3-none-any.whl.metadata (1.0 kB)\n",
      "Requirement already satisfied: packaging in c:\\users\\admin\\appdata\\local\\programs\\python\\python37\\lib\\site-packages (from plotly) (23.1)\n",
      "Downloading plotly-5.18.0-py3-none-any.whl (15.6 MB)\n",
      "   ---------------------------------------- 15.6/15.6 MB 28.4 MB/s eta 0:00:00\n",
      "Downloading tenacity-8.2.3-py3-none-any.whl (24 kB)\n",
      "Installing collected packages: tenacity, plotly\n",
      "Successfully installed plotly-5.18.0 tenacity-8.2.3\n"
     ]
    },
    {
     "name": "stderr",
     "output_type": "stream",
     "text": [
      "Le chemin dâ€™accÃ¨s spÃ©cifiÃ© est introuvable.\n",
      "WARNING: Ignoring invalid distribution -atplotlib (c:\\users\\admin\\appdata\\local\\programs\\python\\python37\\lib\\site-packages)\n",
      "WARNING: Ignoring invalid distribution -atplotlib (c:\\users\\admin\\appdata\\local\\programs\\python\\python37\\lib\\site-packages)\n",
      "\n",
      "[notice] A new release of pip is available: 23.2.1 -> 23.3.2\n",
      "[notice] To update, run: python.exe -m pip install --upgrade pip\n"
     ]
    }
   ],
   "source": [
    "!pip install plotly"
   ]
  },
  {
   "cell_type": "code",
   "execution_count": 12,
   "id": "9d7a5fc1-6e1c-4be2-9a3c-d2950ba511d4",
   "metadata": {},
   "outputs": [],
   "source": [
    "from explore_data_functions import *"
   ]
  },
  {
   "cell_type": "markdown",
   "id": "b8497cdb-946e-451f-82d7-dd334757360f",
   "metadata": {},
   "source": [
    "## a - Transform data to adapt with input requirements"
   ]
  },
  {
   "cell_type": "code",
   "execution_count": 13,
   "id": "dcd9107d-c8bd-4b18-983f-5c2e7db384a8",
   "metadata": {},
   "outputs": [
    {
     "data": {
      "text/html": [
       "<div>\n",
       "<style scoped>\n",
       "    .dataframe tbody tr th:only-of-type {\n",
       "        vertical-align: middle;\n",
       "    }\n",
       "\n",
       "    .dataframe tbody tr th {\n",
       "        vertical-align: top;\n",
       "    }\n",
       "\n",
       "    .dataframe thead th {\n",
       "        text-align: right;\n",
       "    }\n",
       "</style>\n",
       "<table border=\"1\" class=\"dataframe\">\n",
       "  <thead>\n",
       "    <tr style=\"text-align: right;\">\n",
       "      <th></th>\n",
       "      <th>Exp1_CRR_1a_POS</th>\n",
       "      <th>Exp1_CRR_1b_POS</th>\n",
       "      <th>Exp1_CRR_3a_POS</th>\n",
       "      <th>Exp1_CRR_3b_POS</th>\n",
       "      <th>Exp1_CRR_4a_POS</th>\n",
       "      <th>Exp1_CRR_4b_POS</th>\n",
       "      <th>Exp1_CRR_5a_POS</th>\n",
       "      <th>Exp1_CRR_5b_POS</th>\n",
       "      <th>Exp1_CRR_6a_POS</th>\n",
       "      <th>Exp1_CRR_6b_POS</th>\n",
       "      <th>...</th>\n",
       "      <th>Exp1_HCC_58a_POS</th>\n",
       "      <th>Exp1_HCC_58b_POS</th>\n",
       "      <th>Exp1_HCC_59a_POS</th>\n",
       "      <th>Exp1_HCC_59b_POS</th>\n",
       "      <th>Exp1_HCC_60a_POS</th>\n",
       "      <th>Exp1_HCC_60b_POS</th>\n",
       "      <th>Exp1_HCC_63a_POS</th>\n",
       "      <th>Exp1_HCC_63b_POS</th>\n",
       "      <th>Exp1_HCC_64a_POS</th>\n",
       "      <th>Exp1_HCC_64b_POS</th>\n",
       "    </tr>\n",
       "  </thead>\n",
       "  <tbody>\n",
       "    <tr>\n",
       "      <th>0</th>\n",
       "      <td>230.127798</td>\n",
       "      <td>587.927618</td>\n",
       "      <td>300.579088</td>\n",
       "      <td>568.440320</td>\n",
       "      <td>237.746731</td>\n",
       "      <td>460.294192</td>\n",
       "      <td>440.768045</td>\n",
       "      <td>740.698257</td>\n",
       "      <td>612.552420</td>\n",
       "      <td>1133.597320</td>\n",
       "      <td>...</td>\n",
       "      <td>871.093823</td>\n",
       "      <td>1010.693479</td>\n",
       "      <td>713.427477</td>\n",
       "      <td>797.486999</td>\n",
       "      <td>944.502223</td>\n",
       "      <td>1008.902996</td>\n",
       "      <td>989.869316</td>\n",
       "      <td>1050.722511</td>\n",
       "      <td>1063.436804</td>\n",
       "      <td>1149.045224</td>\n",
       "    </tr>\n",
       "    <tr>\n",
       "      <th>1</th>\n",
       "      <td>118.194026</td>\n",
       "      <td>129.710850</td>\n",
       "      <td>212.674262</td>\n",
       "      <td>222.858966</td>\n",
       "      <td>124.304083</td>\n",
       "      <td>136.387626</td>\n",
       "      <td>138.485911</td>\n",
       "      <td>161.454543</td>\n",
       "      <td>257.832954</td>\n",
       "      <td>270.554464</td>\n",
       "      <td>...</td>\n",
       "      <td>29.157877</td>\n",
       "      <td>50.976520</td>\n",
       "      <td>90.783984</td>\n",
       "      <td>77.323598</td>\n",
       "      <td>33.814223</td>\n",
       "      <td>30.604424</td>\n",
       "      <td>42.869602</td>\n",
       "      <td>30.771758</td>\n",
       "      <td>389.046294</td>\n",
       "      <td>424.640566</td>\n",
       "    </tr>\n",
       "    <tr>\n",
       "      <th>2</th>\n",
       "      <td>757.591222</td>\n",
       "      <td>594.600666</td>\n",
       "      <td>658.022293</td>\n",
       "      <td>580.603252</td>\n",
       "      <td>645.234904</td>\n",
       "      <td>561.511359</td>\n",
       "      <td>461.754859</td>\n",
       "      <td>417.581034</td>\n",
       "      <td>731.752527</td>\n",
       "      <td>562.375061</td>\n",
       "      <td>...</td>\n",
       "      <td>174.268984</td>\n",
       "      <td>128.793853</td>\n",
       "      <td>298.010732</td>\n",
       "      <td>255.891087</td>\n",
       "      <td>282.365009</td>\n",
       "      <td>246.467121</td>\n",
       "      <td>171.359314</td>\n",
       "      <td>161.726294</td>\n",
       "      <td>323.123227</td>\n",
       "      <td>288.725470</td>\n",
       "    </tr>\n",
       "    <tr>\n",
       "      <th>3</th>\n",
       "      <td>107.927970</td>\n",
       "      <td>145.488720</td>\n",
       "      <td>98.527020</td>\n",
       "      <td>114.068949</td>\n",
       "      <td>47.450318</td>\n",
       "      <td>81.684234</td>\n",
       "      <td>75.641921</td>\n",
       "      <td>74.463995</td>\n",
       "      <td>112.473876</td>\n",
       "      <td>185.631654</td>\n",
       "      <td>...</td>\n",
       "      <td>311.326136</td>\n",
       "      <td>384.622123</td>\n",
       "      <td>220.801553</td>\n",
       "      <td>297.617438</td>\n",
       "      <td>606.661381</td>\n",
       "      <td>785.677459</td>\n",
       "      <td>392.755907</td>\n",
       "      <td>410.149582</td>\n",
       "      <td>427.651740</td>\n",
       "      <td>376.692099</td>\n",
       "    </tr>\n",
       "    <tr>\n",
       "      <th>4</th>\n",
       "      <td>950.757846</td>\n",
       "      <td>896.401881</td>\n",
       "      <td>646.353708</td>\n",
       "      <td>622.684905</td>\n",
       "      <td>731.368097</td>\n",
       "      <td>722.464761</td>\n",
       "      <td>1194.746673</td>\n",
       "      <td>1157.661719</td>\n",
       "      <td>843.330026</td>\n",
       "      <td>860.639631</td>\n",
       "      <td>...</td>\n",
       "      <td>300.492187</td>\n",
       "      <td>256.624484</td>\n",
       "      <td>360.511751</td>\n",
       "      <td>356.275541</td>\n",
       "      <td>270.565775</td>\n",
       "      <td>277.458326</td>\n",
       "      <td>209.780709</td>\n",
       "      <td>236.145254</td>\n",
       "      <td>201.404361</td>\n",
       "      <td>210.853556</td>\n",
       "    </tr>\n",
       "  </tbody>\n",
       "</table>\n",
       "<p>5 rows × 378 columns</p>\n",
       "</div>"
      ],
      "text/plain": [
       "   Exp1_CRR_1a_POS  Exp1_CRR_1b_POS  Exp1_CRR_3a_POS  Exp1_CRR_3b_POS  \\\n",
       "0       230.127798       587.927618       300.579088       568.440320   \n",
       "1       118.194026       129.710850       212.674262       222.858966   \n",
       "2       757.591222       594.600666       658.022293       580.603252   \n",
       "3       107.927970       145.488720        98.527020       114.068949   \n",
       "4       950.757846       896.401881       646.353708       622.684905   \n",
       "\n",
       "   Exp1_CRR_4a_POS  Exp1_CRR_4b_POS  Exp1_CRR_5a_POS  Exp1_CRR_5b_POS  \\\n",
       "0       237.746731       460.294192       440.768045       740.698257   \n",
       "1       124.304083       136.387626       138.485911       161.454543   \n",
       "2       645.234904       561.511359       461.754859       417.581034   \n",
       "3        47.450318        81.684234        75.641921        74.463995   \n",
       "4       731.368097       722.464761      1194.746673      1157.661719   \n",
       "\n",
       "   Exp1_CRR_6a_POS  Exp1_CRR_6b_POS  ...  Exp1_HCC_58a_POS  Exp1_HCC_58b_POS  \\\n",
       "0       612.552420      1133.597320  ...        871.093823       1010.693479   \n",
       "1       257.832954       270.554464  ...         29.157877         50.976520   \n",
       "2       731.752527       562.375061  ...        174.268984        128.793853   \n",
       "3       112.473876       185.631654  ...        311.326136        384.622123   \n",
       "4       843.330026       860.639631  ...        300.492187        256.624484   \n",
       "\n",
       "   Exp1_HCC_59a_POS  Exp1_HCC_59b_POS  Exp1_HCC_60a_POS  Exp1_HCC_60b_POS  \\\n",
       "0        713.427477        797.486999        944.502223       1008.902996   \n",
       "1         90.783984         77.323598         33.814223         30.604424   \n",
       "2        298.010732        255.891087        282.365009        246.467121   \n",
       "3        220.801553        297.617438        606.661381        785.677459   \n",
       "4        360.511751        356.275541        270.565775        277.458326   \n",
       "\n",
       "   Exp1_HCC_63a_POS  Exp1_HCC_63b_POS  Exp1_HCC_64a_POS  Exp1_HCC_64b_POS  \n",
       "0        989.869316       1050.722511       1063.436804       1149.045224  \n",
       "1         42.869602         30.771758        389.046294        424.640566  \n",
       "2        171.359314        161.726294        323.123227        288.725470  \n",
       "3        392.755907        410.149582        427.651740        376.692099  \n",
       "4        209.780709        236.145254        201.404361        210.853556  \n",
       "\n",
       "[5 rows x 378 columns]"
      ]
     },
     "execution_count": 13,
     "metadata": {},
     "output_type": "execute_result"
    }
   ],
   "source": [
    "peakTable_MTBLS17 = peakTable_MTBLS17_init.copy()\n",
    "peakTable_MTBLS17 = peakTable_MTBLS17.loc[:, 'Exp1_CRR_1a_POS':]\n",
    "peakTable_MTBLS17 = peakTable_MTBLS17.drop(['isotopes', 'adduct'], axis=1)\n",
    "peakTable_MTBLS17.head()"
   ]
  },
  {
   "cell_type": "code",
   "execution_count": 15,
   "id": "b129e9f5-2d3e-4834-a14d-72c66452980c",
   "metadata": {},
   "outputs": [
    {
     "data": {
      "text/html": [
       "<div>\n",
       "<style scoped>\n",
       "    .dataframe tbody tr th:only-of-type {\n",
       "        vertical-align: middle;\n",
       "    }\n",
       "\n",
       "    .dataframe tbody tr th {\n",
       "        vertical-align: top;\n",
       "    }\n",
       "\n",
       "    .dataframe thead th {\n",
       "        text-align: right;\n",
       "    }\n",
       "</style>\n",
       "<table border=\"1\" class=\"dataframe\">\n",
       "  <thead>\n",
       "    <tr style=\"text-align: right;\">\n",
       "      <th></th>\n",
       "      <th></th>\n",
       "      <th>69.034193421312@245.927309952246</th>\n",
       "      <th>69.0347519118582@139.172874889953</th>\n",
       "      <th>69.0703839837015@33.9940592171752</th>\n",
       "      <th>69.0705452827662@373.031465819143</th>\n",
       "      <th>70.0656402237219@22.7604988324661</th>\n",
       "      <th>71.085449630006@379.222418617272</th>\n",
       "      <th>71.0860210463123@415.343642215146</th>\n",
       "      <th>72.0810846503853@23.7091295964681</th>\n",
       "      <th>72.0806908589304@130.850159427121</th>\n",
       "      <th>...</th>\n",
       "      <th>261.189573361512@126.724785372488</th>\n",
       "      <th>262.254199507943@241.280596270886</th>\n",
       "      <th>262.254272674164@460.463648737246</th>\n",
       "      <th>262.254085874238@427.246028775549</th>\n",
       "      <th>263.103606879043@116.843782177653</th>\n",
       "      <th>263.128885223185@245.867508302895</th>\n",
       "      <th>263.249421103173@460.015626030012</th>\n",
       "      <th>264.132808031926@245.869666087669</th>\n",
       "      <th>264.269693587755@261.339524822674</th>\n",
       "      <th>264.268036067514@454.81158605591</th>\n",
       "    </tr>\n",
       "  </thead>\n",
       "  <tbody>\n",
       "    <tr>\n",
       "      <th>0</th>\n",
       "      <td>Sample Name</td>\n",
       "      <td>Exp1_CRR_1a_POS</td>\n",
       "      <td>Exp1_CRR_1b_POS</td>\n",
       "      <td>Exp1_CRR_3a_POS</td>\n",
       "      <td>Exp1_CRR_3b_POS</td>\n",
       "      <td>Exp1_CRR_4a_POS</td>\n",
       "      <td>Exp1_CRR_4b_POS</td>\n",
       "      <td>Exp1_CRR_5a_POS</td>\n",
       "      <td>Exp1_CRR_5b_POS</td>\n",
       "      <td>Exp1_CRR_6a_POS</td>\n",
       "      <td>...</td>\n",
       "      <td>Exp1_HCC_58a_POS</td>\n",
       "      <td>Exp1_HCC_58b_POS</td>\n",
       "      <td>Exp1_HCC_59a_POS</td>\n",
       "      <td>Exp1_HCC_59b_POS</td>\n",
       "      <td>Exp1_HCC_60a_POS</td>\n",
       "      <td>Exp1_HCC_60b_POS</td>\n",
       "      <td>Exp1_HCC_63a_POS</td>\n",
       "      <td>Exp1_HCC_63b_POS</td>\n",
       "      <td>Exp1_HCC_64a_POS</td>\n",
       "      <td>Exp1_HCC_64b_POS</td>\n",
       "    </tr>\n",
       "    <tr>\n",
       "      <th>1</th>\n",
       "      <td>69.034193421312@245.927309952246</td>\n",
       "      <td>230.127798</td>\n",
       "      <td>587.927618</td>\n",
       "      <td>300.579088</td>\n",
       "      <td>568.44032</td>\n",
       "      <td>237.746731</td>\n",
       "      <td>460.294192</td>\n",
       "      <td>440.768045</td>\n",
       "      <td>740.698257</td>\n",
       "      <td>612.55242</td>\n",
       "      <td>...</td>\n",
       "      <td>871.093823</td>\n",
       "      <td>1010.693479</td>\n",
       "      <td>713.427477</td>\n",
       "      <td>797.486999</td>\n",
       "      <td>944.502223</td>\n",
       "      <td>1008.902996</td>\n",
       "      <td>989.869316</td>\n",
       "      <td>1050.722511</td>\n",
       "      <td>1063.436804</td>\n",
       "      <td>1149.045224</td>\n",
       "    </tr>\n",
       "    <tr>\n",
       "      <th>2</th>\n",
       "      <td>69.0347519118582@139.172874889953</td>\n",
       "      <td>118.194026</td>\n",
       "      <td>129.71085</td>\n",
       "      <td>212.674262</td>\n",
       "      <td>222.858966</td>\n",
       "      <td>124.304083</td>\n",
       "      <td>136.387626</td>\n",
       "      <td>138.485911</td>\n",
       "      <td>161.454543</td>\n",
       "      <td>257.832954</td>\n",
       "      <td>...</td>\n",
       "      <td>29.157877</td>\n",
       "      <td>50.97652</td>\n",
       "      <td>90.783984</td>\n",
       "      <td>77.323598</td>\n",
       "      <td>33.814223</td>\n",
       "      <td>30.604424</td>\n",
       "      <td>42.869602</td>\n",
       "      <td>30.771758</td>\n",
       "      <td>389.046294</td>\n",
       "      <td>424.640566</td>\n",
       "    </tr>\n",
       "    <tr>\n",
       "      <th>3</th>\n",
       "      <td>69.0703839837015@33.9940592171752</td>\n",
       "      <td>757.591222</td>\n",
       "      <td>594.600666</td>\n",
       "      <td>658.022293</td>\n",
       "      <td>580.603252</td>\n",
       "      <td>645.234904</td>\n",
       "      <td>561.511359</td>\n",
       "      <td>461.754859</td>\n",
       "      <td>417.581034</td>\n",
       "      <td>731.752527</td>\n",
       "      <td>...</td>\n",
       "      <td>174.268984</td>\n",
       "      <td>128.793853</td>\n",
       "      <td>298.010732</td>\n",
       "      <td>255.891087</td>\n",
       "      <td>282.365009</td>\n",
       "      <td>246.467121</td>\n",
       "      <td>171.359314</td>\n",
       "      <td>161.726294</td>\n",
       "      <td>323.123227</td>\n",
       "      <td>288.72547</td>\n",
       "    </tr>\n",
       "    <tr>\n",
       "      <th>4</th>\n",
       "      <td>69.0705452827662@373.031465819143</td>\n",
       "      <td>107.92797</td>\n",
       "      <td>145.48872</td>\n",
       "      <td>98.52702</td>\n",
       "      <td>114.068949</td>\n",
       "      <td>47.450318</td>\n",
       "      <td>81.684234</td>\n",
       "      <td>75.641921</td>\n",
       "      <td>74.463995</td>\n",
       "      <td>112.473876</td>\n",
       "      <td>...</td>\n",
       "      <td>311.326136</td>\n",
       "      <td>384.622123</td>\n",
       "      <td>220.801553</td>\n",
       "      <td>297.617438</td>\n",
       "      <td>606.661381</td>\n",
       "      <td>785.677459</td>\n",
       "      <td>392.755907</td>\n",
       "      <td>410.149582</td>\n",
       "      <td>427.65174</td>\n",
       "      <td>376.692099</td>\n",
       "    </tr>\n",
       "    <tr>\n",
       "      <th>...</th>\n",
       "      <td>...</td>\n",
       "      <td>...</td>\n",
       "      <td>...</td>\n",
       "      <td>...</td>\n",
       "      <td>...</td>\n",
       "      <td>...</td>\n",
       "      <td>...</td>\n",
       "      <td>...</td>\n",
       "      <td>...</td>\n",
       "      <td>...</td>\n",
       "      <td>...</td>\n",
       "      <td>...</td>\n",
       "      <td>...</td>\n",
       "      <td>...</td>\n",
       "      <td>...</td>\n",
       "      <td>...</td>\n",
       "      <td>...</td>\n",
       "      <td>...</td>\n",
       "      <td>...</td>\n",
       "      <td>...</td>\n",
       "      <td>...</td>\n",
       "    </tr>\n",
       "    <tr>\n",
       "      <th>1582</th>\n",
       "      <td>848.38745497379@245.903140535829</td>\n",
       "      <td>26.854367</td>\n",
       "      <td>442.007981</td>\n",
       "      <td>74.074524</td>\n",
       "      <td>375.213998</td>\n",
       "      <td>58.673974</td>\n",
       "      <td>359.679109</td>\n",
       "      <td>259.991447</td>\n",
       "      <td>663.288763</td>\n",
       "      <td>525.259255</td>\n",
       "      <td>...</td>\n",
       "      <td>599.674322</td>\n",
       "      <td>796.734808</td>\n",
       "      <td>429.124539</td>\n",
       "      <td>518.378844</td>\n",
       "      <td>571.473489</td>\n",
       "      <td>711.25957</td>\n",
       "      <td>871.67816</td>\n",
       "      <td>847.550776</td>\n",
       "      <td>643.123226</td>\n",
       "      <td>800.882347</td>\n",
       "    </tr>\n",
       "    <tr>\n",
       "      <th>1583</th>\n",
       "      <td>848.885621429239@245.902303453468</td>\n",
       "      <td>21.924561</td>\n",
       "      <td>402.357357</td>\n",
       "      <td>84.825422</td>\n",
       "      <td>360.015568</td>\n",
       "      <td>89.294382</td>\n",
       "      <td>344.620685</td>\n",
       "      <td>250.836823</td>\n",
       "      <td>606.269599</td>\n",
       "      <td>511.447837</td>\n",
       "      <td>...</td>\n",
       "      <td>630.116817</td>\n",
       "      <td>788.292939</td>\n",
       "      <td>420.993841</td>\n",
       "      <td>577.087196</td>\n",
       "      <td>603.145726</td>\n",
       "      <td>681.918379</td>\n",
       "      <td>852.241868</td>\n",
       "      <td>903.968504</td>\n",
       "      <td>663.230258</td>\n",
       "      <td>842.841985</td>\n",
       "    </tr>\n",
       "    <tr>\n",
       "      <th>1584</th>\n",
       "      <td>849.388345280949@245.887139929679</td>\n",
       "      <td>6.821398</td>\n",
       "      <td>281.384643</td>\n",
       "      <td>48.47349</td>\n",
       "      <td>234.676324</td>\n",
       "      <td>44.567909</td>\n",
       "      <td>183.387405</td>\n",
       "      <td>162.134148</td>\n",
       "      <td>404.381483</td>\n",
       "      <td>343.337359</td>\n",
       "      <td>...</td>\n",
       "      <td>367.375716</td>\n",
       "      <td>497.352725</td>\n",
       "      <td>271.368749</td>\n",
       "      <td>299.220871</td>\n",
       "      <td>351.708623</td>\n",
       "      <td>415.284426</td>\n",
       "      <td>532.747944</td>\n",
       "      <td>561.767012</td>\n",
       "      <td>399.842543</td>\n",
       "      <td>479.402034</td>\n",
       "    </tr>\n",
       "    <tr>\n",
       "      <th>1585</th>\n",
       "      <td>849.889131681996@245.885868301917</td>\n",
       "      <td>2.15699</td>\n",
       "      <td>128.797298</td>\n",
       "      <td>27.935645</td>\n",
       "      <td>82.68435</td>\n",
       "      <td>11.712702</td>\n",
       "      <td>69.262578</td>\n",
       "      <td>55.12298</td>\n",
       "      <td>180.196226</td>\n",
       "      <td>145.680151</td>\n",
       "      <td>...</td>\n",
       "      <td>186.036111</td>\n",
       "      <td>210.282461</td>\n",
       "      <td>102.24074</td>\n",
       "      <td>138.552479</td>\n",
       "      <td>161.286788</td>\n",
       "      <td>180.770813</td>\n",
       "      <td>223.508213</td>\n",
       "      <td>263.886891</td>\n",
       "      <td>143.443414</td>\n",
       "      <td>231.980527</td>\n",
       "    </tr>\n",
       "    <tr>\n",
       "      <th>1586</th>\n",
       "      <td>849.928235681684@126.237312302097</td>\n",
       "      <td>67.549779</td>\n",
       "      <td>47.65169</td>\n",
       "      <td>80.91451</td>\n",
       "      <td>76.567716</td>\n",
       "      <td>100.32646</td>\n",
       "      <td>116.329704</td>\n",
       "      <td>226.658302</td>\n",
       "      <td>211.245299</td>\n",
       "      <td>347.826914</td>\n",
       "      <td>...</td>\n",
       "      <td>45.255969</td>\n",
       "      <td>36.295334</td>\n",
       "      <td>31.217184</td>\n",
       "      <td>11.914921</td>\n",
       "      <td>87.521071</td>\n",
       "      <td>54.829076</td>\n",
       "      <td>70.677193</td>\n",
       "      <td>53.45313</td>\n",
       "      <td>130.069887</td>\n",
       "      <td>115.457214</td>\n",
       "    </tr>\n",
       "  </tbody>\n",
       "</table>\n",
       "<p>1587 rows × 379 columns</p>\n",
       "</div>"
      ],
      "text/plain": [
       "                                        69.034193421312@245.927309952246  \\\n",
       "0                           Sample Name                  Exp1_CRR_1a_POS   \n",
       "1      69.034193421312@245.927309952246                       230.127798   \n",
       "2     69.0347519118582@139.172874889953                       118.194026   \n",
       "3     69.0703839837015@33.9940592171752                       757.591222   \n",
       "4     69.0705452827662@373.031465819143                        107.92797   \n",
       "...                                 ...                              ...   \n",
       "1582   848.38745497379@245.903140535829                        26.854367   \n",
       "1583  848.885621429239@245.902303453468                        21.924561   \n",
       "1584  849.388345280949@245.887139929679                         6.821398   \n",
       "1585  849.889131681996@245.885868301917                          2.15699   \n",
       "1586  849.928235681684@126.237312302097                        67.549779   \n",
       "\n",
       "     69.0347519118582@139.172874889953 69.0703839837015@33.9940592171752  \\\n",
       "0                      Exp1_CRR_1b_POS                   Exp1_CRR_3a_POS   \n",
       "1                           587.927618                        300.579088   \n",
       "2                            129.71085                        212.674262   \n",
       "3                           594.600666                        658.022293   \n",
       "4                            145.48872                          98.52702   \n",
       "...                                ...                               ...   \n",
       "1582                        442.007981                         74.074524   \n",
       "1583                        402.357357                         84.825422   \n",
       "1584                        281.384643                          48.47349   \n",
       "1585                        128.797298                         27.935645   \n",
       "1586                          47.65169                          80.91451   \n",
       "\n",
       "     69.0705452827662@373.031465819143 70.0656402237219@22.7604988324661  \\\n",
       "0                      Exp1_CRR_3b_POS                   Exp1_CRR_4a_POS   \n",
       "1                            568.44032                        237.746731   \n",
       "2                           222.858966                        124.304083   \n",
       "3                           580.603252                        645.234904   \n",
       "4                           114.068949                         47.450318   \n",
       "...                                ...                               ...   \n",
       "1582                        375.213998                         58.673974   \n",
       "1583                        360.015568                         89.294382   \n",
       "1584                        234.676324                         44.567909   \n",
       "1585                          82.68435                         11.712702   \n",
       "1586                         76.567716                         100.32646   \n",
       "\n",
       "     71.085449630006@379.222418617272 71.0860210463123@415.343642215146  \\\n",
       "0                     Exp1_CRR_4b_POS                   Exp1_CRR_5a_POS   \n",
       "1                          460.294192                        440.768045   \n",
       "2                          136.387626                        138.485911   \n",
       "3                          561.511359                        461.754859   \n",
       "4                           81.684234                         75.641921   \n",
       "...                               ...                               ...   \n",
       "1582                       359.679109                        259.991447   \n",
       "1583                       344.620685                        250.836823   \n",
       "1584                       183.387405                        162.134148   \n",
       "1585                        69.262578                          55.12298   \n",
       "1586                       116.329704                        226.658302   \n",
       "\n",
       "     72.0810846503853@23.7091295964681 72.0806908589304@130.850159427121  ...  \\\n",
       "0                      Exp1_CRR_5b_POS                   Exp1_CRR_6a_POS  ...   \n",
       "1                           740.698257                         612.55242  ...   \n",
       "2                           161.454543                        257.832954  ...   \n",
       "3                           417.581034                        731.752527  ...   \n",
       "4                            74.463995                        112.473876  ...   \n",
       "...                                ...                               ...  ...   \n",
       "1582                        663.288763                        525.259255  ...   \n",
       "1583                        606.269599                        511.447837  ...   \n",
       "1584                        404.381483                        343.337359  ...   \n",
       "1585                        180.196226                        145.680151  ...   \n",
       "1586                        211.245299                        347.826914  ...   \n",
       "\n",
       "     261.189573361512@126.724785372488 262.254199507943@241.280596270886  \\\n",
       "0                     Exp1_HCC_58a_POS                  Exp1_HCC_58b_POS   \n",
       "1                           871.093823                       1010.693479   \n",
       "2                            29.157877                          50.97652   \n",
       "3                           174.268984                        128.793853   \n",
       "4                           311.326136                        384.622123   \n",
       "...                                ...                               ...   \n",
       "1582                        599.674322                        796.734808   \n",
       "1583                        630.116817                        788.292939   \n",
       "1584                        367.375716                        497.352725   \n",
       "1585                        186.036111                        210.282461   \n",
       "1586                         45.255969                         36.295334   \n",
       "\n",
       "     262.254272674164@460.463648737246 262.254085874238@427.246028775549  \\\n",
       "0                     Exp1_HCC_59a_POS                  Exp1_HCC_59b_POS   \n",
       "1                           713.427477                        797.486999   \n",
       "2                            90.783984                         77.323598   \n",
       "3                           298.010732                        255.891087   \n",
       "4                           220.801553                        297.617438   \n",
       "...                                ...                               ...   \n",
       "1582                        429.124539                        518.378844   \n",
       "1583                        420.993841                        577.087196   \n",
       "1584                        271.368749                        299.220871   \n",
       "1585                         102.24074                        138.552479   \n",
       "1586                         31.217184                         11.914921   \n",
       "\n",
       "     263.103606879043@116.843782177653 263.128885223185@245.867508302895  \\\n",
       "0                     Exp1_HCC_60a_POS                  Exp1_HCC_60b_POS   \n",
       "1                           944.502223                       1008.902996   \n",
       "2                            33.814223                         30.604424   \n",
       "3                           282.365009                        246.467121   \n",
       "4                           606.661381                        785.677459   \n",
       "...                                ...                               ...   \n",
       "1582                        571.473489                         711.25957   \n",
       "1583                        603.145726                        681.918379   \n",
       "1584                        351.708623                        415.284426   \n",
       "1585                        161.286788                        180.770813   \n",
       "1586                         87.521071                         54.829076   \n",
       "\n",
       "     263.249421103173@460.015626030012 264.132808031926@245.869666087669  \\\n",
       "0                     Exp1_HCC_63a_POS                  Exp1_HCC_63b_POS   \n",
       "1                           989.869316                       1050.722511   \n",
       "2                            42.869602                         30.771758   \n",
       "3                           171.359314                        161.726294   \n",
       "4                           392.755907                        410.149582   \n",
       "...                                ...                               ...   \n",
       "1582                         871.67816                        847.550776   \n",
       "1583                        852.241868                        903.968504   \n",
       "1584                        532.747944                        561.767012   \n",
       "1585                        223.508213                        263.886891   \n",
       "1586                         70.677193                          53.45313   \n",
       "\n",
       "     264.269693587755@261.339524822674 264.268036067514@454.81158605591  \n",
       "0                     Exp1_HCC_64a_POS                 Exp1_HCC_64b_POS  \n",
       "1                          1063.436804                      1149.045224  \n",
       "2                           389.046294                       424.640566  \n",
       "3                           323.123227                        288.72547  \n",
       "4                            427.65174                       376.692099  \n",
       "...                                ...                              ...  \n",
       "1582                        643.123226                       800.882347  \n",
       "1583                        663.230258                       842.841985  \n",
       "1584                        399.842543                       479.402034  \n",
       "1585                        143.443414                       231.980527  \n",
       "1586                        130.069887                       115.457214  \n",
       "\n",
       "[1587 rows x 379 columns]"
      ]
     },
     "execution_count": 15,
     "metadata": {},
     "output_type": "execute_result"
    }
   ],
   "source": [
    "peakTable_MTBLS17.insert(0, '', peakTable_MTBLS17_init['mz'].astype(str) + '@' + peakTable_MTBLS17_init['rt'].astype(str))\n",
    "peakTable_MTBLS17 = peakTable_MTBLS17.transpose()\n",
    "peakTable_MTBLS17.columns = peakTable_MTBLS17.iloc[0, :]\n",
    "peakTable_MTBLS17 = peakTable_MTBLS17.drop(peakTable_MTBLS17.index[0], axis=0)\n",
    "peakTable_MTBLS17 = peakTable_MTBLS17.reset_index()\n",
    "peakTable_MTBLS17 = peakTable_MTBLS17.rename(columns={'index': 'Sample Name'})\n",
    "peakTable_MTBLS17.index = range(peakTable_MTBLS17.shape[0])\n",
    "peakTable_MTBLS17"
   ]
  },
  {
   "cell_type": "code",
   "execution_count": 16,
   "id": "ea4e2cf9-90b9-47ba-8cd2-aed9bc29c485",
   "metadata": {},
   "outputs": [
    {
     "ename": "KeyError",
     "evalue": "'Sample Name'",
     "output_type": "error",
     "traceback": [
      "\u001b[1;31m---------------------------------------------------------------------------\u001b[0m",
      "\u001b[1;31mKeyError\u001b[0m                                  Traceback (most recent call last)",
      "\u001b[1;32mc:\\users\\admin\\appdata\\local\\programs\\python\\python37\\lib\\site-packages\\pandas\\core\\indexes\\base.py\u001b[0m in \u001b[0;36mget_loc\u001b[1;34m(self, key, method, tolerance)\u001b[0m\n\u001b[0;32m   3079\u001b[0m             \u001b[1;32mtry\u001b[0m\u001b[1;33m:\u001b[0m\u001b[1;33m\u001b[0m\u001b[1;33m\u001b[0m\u001b[0m\n\u001b[1;32m-> 3080\u001b[1;33m                 \u001b[1;32mreturn\u001b[0m \u001b[0mself\u001b[0m\u001b[1;33m.\u001b[0m\u001b[0m_engine\u001b[0m\u001b[1;33m.\u001b[0m\u001b[0mget_loc\u001b[0m\u001b[1;33m(\u001b[0m\u001b[0mcasted_key\u001b[0m\u001b[1;33m)\u001b[0m\u001b[1;33m\u001b[0m\u001b[1;33m\u001b[0m\u001b[0m\n\u001b[0m\u001b[0;32m   3081\u001b[0m             \u001b[1;32mexcept\u001b[0m \u001b[0mKeyError\u001b[0m \u001b[1;32mas\u001b[0m \u001b[0merr\u001b[0m\u001b[1;33m:\u001b[0m\u001b[1;33m\u001b[0m\u001b[1;33m\u001b[0m\u001b[0m\n",
      "\u001b[1;32mpandas\\_libs\\index.pyx\u001b[0m in \u001b[0;36mpandas._libs.index.IndexEngine.get_loc\u001b[1;34m()\u001b[0m\n",
      "\u001b[1;32mpandas\\_libs\\index.pyx\u001b[0m in \u001b[0;36mpandas._libs.index.IndexEngine.get_loc\u001b[1;34m()\u001b[0m\n",
      "\u001b[1;32mpandas\\_libs\\hashtable_class_helper.pxi\u001b[0m in \u001b[0;36mpandas._libs.hashtable.PyObjectHashTable.get_item\u001b[1;34m()\u001b[0m\n",
      "\u001b[1;32mpandas\\_libs\\hashtable_class_helper.pxi\u001b[0m in \u001b[0;36mpandas._libs.hashtable.PyObjectHashTable.get_item\u001b[1;34m()\u001b[0m\n",
      "\u001b[1;31mKeyError\u001b[0m: 'Sample Name'",
      "\nThe above exception was the direct cause of the following exception:\n",
      "\u001b[1;31mKeyError\u001b[0m                                  Traceback (most recent call last)",
      "\u001b[1;32m~\\AppData\\Local\\Temp/ipykernel_7476/1147762806.py\u001b[0m in \u001b[0;36m<module>\u001b[1;34m\u001b[0m\n\u001b[1;32m----> 1\u001b[1;33m \u001b[0mmetadata_subset\u001b[0m \u001b[1;33m=\u001b[0m \u001b[0mmetadata\u001b[0m\u001b[1;33m[\u001b[0m\u001b[0mmetadata\u001b[0m\u001b[1;33m[\u001b[0m\u001b[1;34m'Sample Name'\u001b[0m\u001b[1;33m]\u001b[0m\u001b[1;33m.\u001b[0m\u001b[0misin\u001b[0m\u001b[1;33m(\u001b[0m\u001b[0mpeakTable_MTBLS17\u001b[0m\u001b[1;33m[\u001b[0m\u001b[1;34m'Sample Name'\u001b[0m\u001b[1;33m]\u001b[0m\u001b[1;33m)\u001b[0m\u001b[1;33m]\u001b[0m\u001b[1;33m\u001b[0m\u001b[1;33m\u001b[0m\u001b[0m\n\u001b[0m\u001b[0;32m      2\u001b[0m \u001b[0mprint\u001b[0m\u001b[1;33m(\u001b[0m\u001b[1;34mf'Metadata shape : {metadata_subset.shape}'\u001b[0m\u001b[1;33m)\u001b[0m\u001b[1;33m\u001b[0m\u001b[1;33m\u001b[0m\u001b[0m\n\u001b[0;32m      3\u001b[0m \u001b[0mmetadata_subset\u001b[0m\u001b[1;33m.\u001b[0m\u001b[0mhead\u001b[0m\u001b[1;33m(\u001b[0m\u001b[1;33m)\u001b[0m\u001b[1;33m\u001b[0m\u001b[1;33m\u001b[0m\u001b[0m\n",
      "\u001b[1;32mc:\\users\\admin\\appdata\\local\\programs\\python\\python37\\lib\\site-packages\\pandas\\core\\frame.py\u001b[0m in \u001b[0;36m__getitem__\u001b[1;34m(self, key)\u001b[0m\n\u001b[0;32m   3022\u001b[0m             \u001b[1;32mif\u001b[0m \u001b[0mself\u001b[0m\u001b[1;33m.\u001b[0m\u001b[0mcolumns\u001b[0m\u001b[1;33m.\u001b[0m\u001b[0mnlevels\u001b[0m \u001b[1;33m>\u001b[0m \u001b[1;36m1\u001b[0m\u001b[1;33m:\u001b[0m\u001b[1;33m\u001b[0m\u001b[1;33m\u001b[0m\u001b[0m\n\u001b[0;32m   3023\u001b[0m                 \u001b[1;32mreturn\u001b[0m \u001b[0mself\u001b[0m\u001b[1;33m.\u001b[0m\u001b[0m_getitem_multilevel\u001b[0m\u001b[1;33m(\u001b[0m\u001b[0mkey\u001b[0m\u001b[1;33m)\u001b[0m\u001b[1;33m\u001b[0m\u001b[1;33m\u001b[0m\u001b[0m\n\u001b[1;32m-> 3024\u001b[1;33m             \u001b[0mindexer\u001b[0m \u001b[1;33m=\u001b[0m \u001b[0mself\u001b[0m\u001b[1;33m.\u001b[0m\u001b[0mcolumns\u001b[0m\u001b[1;33m.\u001b[0m\u001b[0mget_loc\u001b[0m\u001b[1;33m(\u001b[0m\u001b[0mkey\u001b[0m\u001b[1;33m)\u001b[0m\u001b[1;33m\u001b[0m\u001b[1;33m\u001b[0m\u001b[0m\n\u001b[0m\u001b[0;32m   3025\u001b[0m             \u001b[1;32mif\u001b[0m \u001b[0mis_integer\u001b[0m\u001b[1;33m(\u001b[0m\u001b[0mindexer\u001b[0m\u001b[1;33m)\u001b[0m\u001b[1;33m:\u001b[0m\u001b[1;33m\u001b[0m\u001b[1;33m\u001b[0m\u001b[0m\n\u001b[0;32m   3026\u001b[0m                 \u001b[0mindexer\u001b[0m \u001b[1;33m=\u001b[0m \u001b[1;33m[\u001b[0m\u001b[0mindexer\u001b[0m\u001b[1;33m]\u001b[0m\u001b[1;33m\u001b[0m\u001b[1;33m\u001b[0m\u001b[0m\n",
      "\u001b[1;32mc:\\users\\admin\\appdata\\local\\programs\\python\\python37\\lib\\site-packages\\pandas\\core\\indexes\\base.py\u001b[0m in \u001b[0;36mget_loc\u001b[1;34m(self, key, method, tolerance)\u001b[0m\n\u001b[0;32m   3080\u001b[0m                 \u001b[1;32mreturn\u001b[0m \u001b[0mself\u001b[0m\u001b[1;33m.\u001b[0m\u001b[0m_engine\u001b[0m\u001b[1;33m.\u001b[0m\u001b[0mget_loc\u001b[0m\u001b[1;33m(\u001b[0m\u001b[0mcasted_key\u001b[0m\u001b[1;33m)\u001b[0m\u001b[1;33m\u001b[0m\u001b[1;33m\u001b[0m\u001b[0m\n\u001b[0;32m   3081\u001b[0m             \u001b[1;32mexcept\u001b[0m \u001b[0mKeyError\u001b[0m \u001b[1;32mas\u001b[0m \u001b[0merr\u001b[0m\u001b[1;33m:\u001b[0m\u001b[1;33m\u001b[0m\u001b[1;33m\u001b[0m\u001b[0m\n\u001b[1;32m-> 3082\u001b[1;33m                 \u001b[1;32mraise\u001b[0m \u001b[0mKeyError\u001b[0m\u001b[1;33m(\u001b[0m\u001b[0mkey\u001b[0m\u001b[1;33m)\u001b[0m \u001b[1;32mfrom\u001b[0m \u001b[0merr\u001b[0m\u001b[1;33m\u001b[0m\u001b[1;33m\u001b[0m\u001b[0m\n\u001b[0m\u001b[0;32m   3083\u001b[0m \u001b[1;33m\u001b[0m\u001b[0m\n\u001b[0;32m   3084\u001b[0m         \u001b[1;32mif\u001b[0m \u001b[0mtolerance\u001b[0m \u001b[1;32mis\u001b[0m \u001b[1;32mnot\u001b[0m \u001b[1;32mNone\u001b[0m\u001b[1;33m:\u001b[0m\u001b[1;33m\u001b[0m\u001b[1;33m\u001b[0m\u001b[0m\n",
      "\u001b[1;31mKeyError\u001b[0m: 'Sample Name'"
     ]
    }
   ],
   "source": [
    "metadata_subset = metadata[metadata['Sample Name'].isin(peakTable_MTBLS17['Sample Name'])]\n",
    "print(f'Metadata shape : {metadata_subset.shape}')\n",
    "metadata_subset.head()"
   ]
  },
  {
   "cell_type": "code",
   "execution_count": null,
   "id": "fd98e169-ffa9-4110-9424-8e0e8f4db5a9",
   "metadata": {},
   "outputs": [],
   "source": [
    "peakTable = pd.merge(left=metadata_subset[['Sample Name', 'Factor Value[Disease]']].rename(columns={'Factor Value[Disease]': 'Disease'}),\n",
    "                     right=peakTable_MTBLS17,\n",
    "                     on='Sample Name')\n",
    "peakTable"
   ]
  },
  {
   "cell_type": "code",
   "execution_count": null,
   "id": "d0ff568e-fd4c-446e-ae7b-dce96eb90890",
   "metadata": {},
   "outputs": [],
   "source": [
    "peakTable.to_csv(os.path.join(pwd,'data/MTBLS17/processed_peakTable.csv'), index=False, header=True)"
   ]
  },
  {
   "cell_type": "markdown",
   "id": "131c774e-ab0b-44a5-a22c-6a1942879bdf",
   "metadata": {},
   "source": [
    "### Separate intensities (in dataframe <code>X</code>) and metadata (in dataframe <code>metadata</code>)"
   ]
  },
  {
   "cell_type": "code",
   "execution_count": null,
   "id": "d0b1c0a7-696f-43a3-9dd5-03d1155d1916",
   "metadata": {},
   "outputs": [],
   "source": [
    "X = peakTable.iloc[:, 2:]\n",
    "X"
   ]
  },
  {
   "cell_type": "code",
   "execution_count": null,
   "id": "fe2e1f3f-1022-4cf5-ba57-bf26153f7125",
   "metadata": {},
   "outputs": [],
   "source": [
    "metadata = peakTable.drop(X.columns, axis=1)\n",
    "metadata"
   ]
  },
  {
   "cell_type": "code",
   "execution_count": null,
   "id": "f10dec52-0296-4472-80db-986302cef0c3",
   "metadata": {},
   "outputs": [],
   "source": [
    "target = metadata['Disease']\n"
   ]
  },
  {
   "cell_type": "markdown",
   "id": "36a39a18-6e90-4933-a26a-2008686e2f00",
   "metadata": {},
   "source": [
    "# 2 - Explore data"
   ]
  },
  {
   "cell_type": "markdown",
   "id": "513f86c8-419b-4c5e-bdd1-67673c7fd665",
   "metadata": {},
   "source": [
    "## a - Feature types"
   ]
  },
  {
   "cell_type": "markdown",
   "id": "108e3065-ec47-46fc-8977-b5df647d6899",
   "metadata": {},
   "source": [
    "### For further analysis, we prefer peak table intensites as float"
   ]
  },
  {
   "cell_type": "code",
   "execution_count": null,
   "id": "632792fc-da36-45fb-8e6c-847f7445cb9a",
   "metadata": {},
   "outputs": [],
   "source": [
    "peakTable[peakTable.columns[2:]] = peakTable[peakTable.columns[2:]].apply(pd.to_numeric, errors='coerce', axis=1)\n",
    "peakTable"
   ]
  },
  {
   "cell_type": "code",
   "execution_count": null,
   "id": "54bbe2a2-a00b-4d46-9c23-b2dd8c4432e9",
   "metadata": {},
   "outputs": [],
   "source": [
    "plot_feature_types(peakTable)"
   ]
  },
  {
   "cell_type": "markdown",
   "id": "470c303e-4ba5-43cf-81cf-db131bf159ca",
   "metadata": {},
   "source": [
    "### Re-subset X to have numerical values instead of object"
   ]
  },
  {
   "cell_type": "code",
   "execution_count": null,
   "id": "07a7366e-bd35-45e2-8b40-666e6b0014d4",
   "metadata": {},
   "outputs": [],
   "source": [
    "X = peakTable.iloc[:,2:]\n",
    "X\n",
    "#vers ligne 280 plein de 0 : surtout 276 et 277 dans les derniers métabolites"
   ]
  },
  {
   "cell_type": "markdown",
   "id": "668a2def-19f7-40b6-86b5-22f4ee46838f",
   "metadata": {},
   "source": [
    "## b - Missing values exploration"
   ]
  },
  {
   "cell_type": "code",
   "execution_count": null,
   "id": "973199d3-09cd-4710-8270-5b374102df9b",
   "metadata": {},
   "outputs": [],
   "source": [
    "plot_infos_missing_values(X)\n",
    "# checking NaN values"
   ]
  },
  {
   "cell_type": "markdown",
   "id": "ce7f371e-7e91-41bf-aa5d-63f3d7c03bee",
   "metadata": {},
   "source": [
    "### The function <code>plot_infos_missing_values</code> was developed to spot values equal to <code>NaN</code> by default. Here there are no NaNs but missing values can be in another form (0, 1, a specific string e.g. *'Unknown'* or *'NA'*, ...). We can pass argument <code>na_values</code> to specify the type of missing values in the peak table."
   ]
  },
  {
   "cell_type": "code",
   "execution_count": null,
   "id": "999a94b0-ccbe-4806-ac4c-0d0d35929552",
   "metadata": {},
   "outputs": [],
   "source": [
    "plot_infos_missing_values(X, na_values=0)"
   ]
  },
  {
   "cell_type": "markdown",
   "id": "9985130e-0a75-40d8-a6fe-b9f40bccf8fb",
   "metadata": {},
   "source": [
    "<div class=\"alert alert-block alert-info\">\n",
    " Apply a threshold to discriminate patients that have more than 10% missing values."
   ]
  },
  {
   "cell_type": "code",
   "execution_count": null,
   "id": "3a6b97cd-626f-4185-9d6e-5c5adc61f00e",
   "metadata": {},
   "outputs": [],
   "source": [
    "nb_missing = []\n",
    "nb_patient = []\n",
    "for i in range(len(X)) :\n",
    "    nb_missing.append(plot_infos_missing_values(X.iloc[i], na_values=0, plot = False))\n",
    "    if (nb_missing[i] > 1586/10) :\n",
    "        nb_patient.append(i)\n",
    "        print(metadata.iloc[i], \"\\n number of missing values : \", nb_missing[i], \"\\n\")\n"
   ]
  },
  {
   "cell_type": "markdown",
   "id": "223db2b9-d987-46ae-8d20-4e5c0bd847dc",
   "metadata": {},
   "source": [
    "<div class=\"alert alert-block alert-info\">\n",
    " Generate new peak table without the patients with too many missing values\n",
    " and the associated X and metadata tables"
   ]
  },
  {
   "cell_type": "code",
   "execution_count": null,
   "id": "c5eaa547-3c6c-46e1-954b-b2d549eb62f3",
   "metadata": {},
   "outputs": [],
   "source": [
    "peakTable1 = peakTable.drop(nb_patient, axis=0)\n",
    "peakTable1[270:280]"
   ]
  },
  {
   "cell_type": "code",
   "execution_count": null,
   "id": "ea8631f7-699f-4c28-800d-c710300ebed4",
   "metadata": {},
   "outputs": [],
   "source": [
    "X1 = peakTable1.iloc[:, 2:]\n",
    "X1"
   ]
  },
  {
   "cell_type": "code",
   "execution_count": null,
   "id": "d2d0f05e-6be6-4477-a54c-ad5d69214a7c",
   "metadata": {},
   "outputs": [],
   "source": [
    "metadata1 = peakTable1.drop(X1.columns, axis=1)\n",
    "metadata1\n"
   ]
  },
  {
   "cell_type": "code",
   "execution_count": null,
   "id": "92bb3f9a-cc95-431b-b1d5-013e7d04eb3a",
   "metadata": {},
   "outputs": [],
   "source": [
    "target1 = metadata1['Disease']"
   ]
  },
  {
   "cell_type": "markdown",
   "id": "1e1bc54e-2580-44c7-bd10-5d553bfa7866",
   "metadata": {
    "tags": []
   },
   "source": [
    "## c - Correlation between features"
   ]
  },
  {
   "cell_type": "code",
   "execution_count": null,
   "id": "6f0e4169-fba0-464b-a141-804237303e76",
   "metadata": {},
   "outputs": [],
   "source": [
    "plot_correlation_matrix(X1, threshold=0.9)"
   ]
  },
  {
   "cell_type": "markdown",
   "id": "c88099b3-7aee-46ce-b14d-c90eeef2d3ab",
   "metadata": {
    "tags": []
   },
   "source": [
    "## d - Remove strongly correlated features (to potentially avoid issues during further analysis)"
   ]
  },
  {
   "cell_type": "markdown",
   "id": "92c17450-59e9-43a2-9e44-bb223709d229",
   "metadata": {},
   "source": [
    "<div class=\"alert alert-block alert-info\">\n",
    "We also tried to decorrelate the data"
   ]
  },
  {
   "cell_type": "code",
   "execution_count": null,
   "id": "a72b1c45-58eb-45a6-870b-72a7f1e22d62",
   "metadata": {},
   "outputs": [],
   "source": [
    "X_remove_corr = remove_correlated_features(X1)\n",
    "X_remove_corr"
   ]
  },
  {
   "cell_type": "code",
   "execution_count": null,
   "id": "91265858-25ad-4aed-ac52-c7434b6ff880",
   "metadata": {},
   "outputs": [],
   "source": [
    "peakTable_remove_corr = pd.concat([metadata1, X_remove_corr], axis=1)\n",
    "peakTable_remove_corr"
   ]
  },
  {
   "cell_type": "markdown",
   "id": "70f71022-e4b4-46bc-8945-a5cd2bb19052",
   "metadata": {
    "tags": []
   },
   "source": [
    "## e - PCA"
   ]
  },
  {
   "cell_type": "code",
   "execution_count": null,
   "id": "5e1b658b-9339-48a0-bb8b-0b7ed110456d",
   "metadata": {},
   "outputs": [],
   "source": [
    "if plot_infos_missing_values(X, plot=False) == 0:\n",
    "    cb.plot.pca(X1, pcx=1, pcy=2, group_label=target1)\n",
    "else:\n",
    "    print('NaNs in peak table, please impute before using PCA')"
   ]
  },
  {
   "cell_type": "markdown",
   "id": "b9f8f827-daa3-4a6f-9a83-6e7a16f9b53a",
   "metadata": {
    "tags": []
   },
   "source": [
    "## f - Target visualisation"
   ]
  },
  {
   "cell_type": "code",
   "execution_count": null,
   "id": "f24457fd-d0ce-4428-8703-615bc1d71664",
   "metadata": {},
   "outputs": [],
   "source": [
    "plot_target(target1)"
   ]
  },
  {
   "cell_type": "markdown",
   "id": "beeb242d-802d-45bc-9ea1-e85065143327",
   "metadata": {
    "tags": []
   },
   "source": [
    "# 3 - Impute missing values"
   ]
  },
  {
   "cell_type": "code",
   "execution_count": null,
   "id": "aa571fa9-1678-437a-bd0f-01a410814a5f",
   "metadata": {},
   "outputs": [],
   "source": [
    "from missing_value_imputation_functions import *"
   ]
  },
  {
   "cell_type": "markdown",
   "id": "edb6c96f-915e-45a2-b67f-041f430bb174",
   "metadata": {},
   "source": [
    "### We observed before that missing values are here 0's. For further analysis, we prefer to avoid having 0's for mathematical purposes, we can replace these zeros by other values"
   ]
  },
  {
   "cell_type": "markdown",
   "id": "ab362604-5d09-46e6-812d-61ab47aeff97",
   "metadata": {},
   "source": [
    "<div class=\"alert alert-block alert-info\">\n",
    "Decomment next cell to use decorrelated values "
   ]
  },
  {
   "cell_type": "code",
   "execution_count": null,
   "id": "19dbe5fa-043c-4d2e-a476-502c906f1173",
   "metadata": {},
   "outputs": [],
   "source": [
    "X1 = X_remove_corr"
   ]
  },
  {
   "cell_type": "code",
   "execution_count": null,
   "id": "eb96a5b1-5dcf-42ce-9358-9ff2d7202aed",
   "metadata": {},
   "outputs": [],
   "source": [
    "plot_infos_missing_values(X1, na_values=0)"
   ]
  },
  {
   "cell_type": "markdown",
   "id": "0dd114f9-602e-4426-8af0-8efebff29f93",
   "metadata": {},
   "source": [
    "### Set 0 to NaN to then impute with chosen imputer"
   ]
  },
  {
   "cell_type": "code",
   "execution_count": null,
   "id": "88ad6cd3-d772-4620-921a-745629d4590f",
   "metadata": {},
   "outputs": [],
   "source": [
    "X_with_Nan = X1.copy()\n",
    "X_with_Nan[X_with_Nan == 0] = np.nan"
   ]
  },
  {
   "cell_type": "markdown",
   "id": "8c1877fb-95d7-4217-b27a-561754faf2e3",
   "metadata": {},
   "source": [
    "### Path to save imputed peak tables\n"
   ]
  },
  {
   "cell_type": "code",
   "execution_count": null,
   "id": "e14b1d30-0378-49d0-8965-8a4228647b09",
   "metadata": {},
   "outputs": [],
   "source": [
    "path_peakTable_imputed = os.path.join(pwd, 'data/synthetic_dataset/imputed_peak_tables/')\n",
    "\n",
    "if os.path.exists(path_peakTable_imputed):\n",
    "    print(f'Directory {path_peakTable_imputed} already exists !')\n",
    "else:\n",
    "    os.makedirs(path_peakTable_imputed)\n",
    "    print(f'Directory {path_peakTable_imputed} created !')"
   ]
  },
  {
   "cell_type": "markdown",
   "id": "1549c303-424f-4be6-b2c4-acb2a3bd459c",
   "metadata": {},
   "source": [
    "<div class=\"alert alert-block alert-info\">\n",
    "Kernel is crashing if we run choose_best_imputation_method for the whole dataset.\n",
    "    \n",
    "We run it on a subset of the dataset that has a lot of missing values, and the best method seems to be python_MICE_ExtraTreesRegressor, which is consistent with what was tested on other datasets available."
   ]
  },
  {
   "cell_type": "code",
   "execution_count": null,
   "id": "d56b36ea-6541-4dd7-aab4-25018afb0ca0",
   "metadata": {},
   "outputs": [],
   "source": [
    "df_RMSE = choose_best_imputation_method(X_with_Nan.iloc[:100,1000 :], path_peakTable_imputed, number_iterations=1)"
   ]
  },
  {
   "cell_type": "code",
   "execution_count": null,
   "id": "7f25ca18-404a-48d0-a4c0-5a3c1ffa7c2d",
   "metadata": {},
   "outputs": [],
   "source": [
    "df_RMSE"
   ]
  },
  {
   "cell_type": "code",
   "execution_count": null,
   "id": "0bfeeee8-1b48-406d-a31f-114d20a24f31",
   "metadata": {},
   "outputs": [],
   "source": [
    "plt.figure(figsize=(5, 5))\n",
    "plot_RMSE_results(df_RMSE)\n"
   ]
  },
  {
   "cell_type": "markdown",
   "id": "def854ea-73ba-4447-b433-aa818c79e6c8",
   "metadata": {},
   "source": [
    "<div class=\"alert alert-block alert-info\">\n",
    "We apply the extra tree Regressor estimator (mutivariate Imputation by chain equation) method to impute the missing values.\n",
    "It's crashing if we have all the values, we try only with decorrelated values (twice less columns)"
   ]
  },
  {
   "cell_type": "code",
   "execution_count": null,
   "id": "30a6218e-a6d0-4181-aa2c-27061b985478",
   "metadata": {},
   "outputs": [],
   "source": [
    "from sklearn.ensemble import ExtraTreesRegressor"
   ]
  },
  {
   "cell_type": "code",
   "execution_count": null,
   "id": "4a0729fe-6e0d-49c0-adff-6220917c777e",
   "metadata": {},
   "outputs": [],
   "source": [
    "estimator_MICE = ExtraTreesRegressor(n_estimators=10, random_state=0)"
   ]
  },
  {
   "cell_type": "code",
   "execution_count": null,
   "id": "9a50d16b-2bbd-44fd-8c0e-e1e91c234f0e",
   "metadata": {},
   "outputs": [],
   "source": [
    "#print(f\"- {str(estimator_MICE).split('(')[0]} :\")\n",
    "#intensities_python_MICE = python_MICE_imputer(X_with_Nan, estimator_MICE)\n",
    "#filename = 'intensities_python_MICE_' + str(estimator_MICE).split('(')[0] + '.csv'\n",
    "#intensities_python_MICE.to_csv(path_peakTable_imputed + filename, index = False, header=True)\n",
    "#print(f'Imputed peak table {filename} saved in {path_peakTable_imputed}\\n')"
   ]
  },
  {
   "cell_type": "markdown",
   "id": "f38c21bc-6502-4cb0-ba35-dbc3c4bec038",
   "metadata": {},
   "source": [
    "<div class=\"alert alert-block alert-info\">\n",
    "Kernel is crashing at every attempt, we try the K-nearest neighbors"
   ]
  },
  {
   "cell_type": "code",
   "execution_count": null,
   "id": "30ed2e4e-a227-4d40-90d3-3657f018b11c",
   "metadata": {},
   "outputs": [],
   "source": [
    "intensities_KNN = KNN_imputer(X_with_Nan, by='samples')"
   ]
  },
  {
   "cell_type": "markdown",
   "id": "59511583-9329-4734-941c-4d21f58902a6",
   "metadata": {},
   "source": [
    "<div class=\"alert alert-block alert-info\">\n",
    "This function changes indexes : we didn't have patients 276 and 277 because we removed them, and here the indexes are reiniytialized from 0 to 376."
   ]
  },
  {
   "cell_type": "markdown",
   "id": "3b7a7526-129e-4083-be03-e71f62eccd9b",
   "metadata": {},
   "source": [
    "### We can check that there is no more missing values in the imputed peak tables"
   ]
  },
  {
   "cell_type": "code",
   "execution_count": null,
   "id": "5f8a3c58-dd44-4ea3-89c7-cf55d49f5d6d",
   "metadata": {},
   "outputs": [],
   "source": [
    "plot_infos_missing_values(intensities_KNN, na_values=0)"
   ]
  },
  {
   "cell_type": "markdown",
   "id": "c96e1827-7ac2-4477-a809-7619583d5ac5",
   "metadata": {
    "tags": []
   },
   "source": [
    "# 4 - Transformations"
   ]
  },
  {
   "cell_type": "code",
   "execution_count": null,
   "id": "b18c798c-0458-4961-9b23-34d8ce48cfc9",
   "metadata": {},
   "outputs": [],
   "source": [
    "from normalisation_scaling_functions import *"
   ]
  },
  {
   "cell_type": "markdown",
   "id": "dbd2d005-5b3f-43b9-8643-56160a18f597",
   "metadata": {},
   "source": [
    "<div class=\"alert alert-block alert-info\">\n",
    "We have a look at the distributions before applying transformations"
   ]
  },
  {
   "cell_type": "code",
   "execution_count": null,
   "id": "78a9ec37-a96f-4094-a60c-fb7456da365c",
   "metadata": {},
   "outputs": [],
   "source": [
    "X3 = intensities_KNN.copy()"
   ]
  },
  {
   "cell_type": "code",
   "execution_count": null,
   "id": "fd8f4ffd-df7f-4fce-bfda-226ef2c495cb",
   "metadata": {},
   "outputs": [],
   "source": [
    "plot_first_distributions_metabolites(X3)"
   ]
  },
  {
   "cell_type": "markdown",
   "id": "f421f390-0725-45d6-899a-3a4628271921",
   "metadata": {},
   "source": [
    "<div class=\"alert alert-block alert-info\">\n",
    "Among the first metabolites, some are clearly not normally distributed "
   ]
  },
  {
   "cell_type": "code",
   "execution_count": null,
   "id": "a2932dec-cd8d-4862-93ba-65ace83602ef",
   "metadata": {},
   "outputs": [],
   "source": [
    "boxplot_first_distributions_metabolites(X3, n=100)"
   ]
  },
  {
   "cell_type": "markdown",
   "id": "a1291b1e-662f-49df-a6b5-c3c8c2be1c07",
   "metadata": {},
   "source": [
    "<div class=\"alert alert-block alert-info\">\n",
    "We can clearly observe that features are not in the same range of values, and that there are many outliers."
   ]
  },
  {
   "cell_type": "markdown",
   "id": "d3baa723-75e5-494b-b545-5344244e4403",
   "metadata": {},
   "source": [
    "## a - log transformation"
   ]
  },
  {
   "cell_type": "code",
   "execution_count": null,
   "id": "94b74e74-bc7f-46b9-8322-14b21cfe8e4b",
   "metadata": {},
   "outputs": [],
   "source": [
    "X_log = normPeakTable(X3, 'log10', based='metabolite')\n",
    "X_log"
   ]
  },
  {
   "cell_type": "code",
   "execution_count": null,
   "id": "d7710310-615e-4322-b8bb-2e81d9e4a702",
   "metadata": {},
   "outputs": [],
   "source": [
    "boxplot_first_distributions_metabolites(X_log, n=100)"
   ]
  },
  {
   "cell_type": "markdown",
   "id": "2f312977-31d2-47f9-8068-2ca6362b83c2",
   "metadata": {},
   "source": [
    "## b - Standard scale intensities"
   ]
  },
  {
   "cell_type": "code",
   "execution_count": null,
   "id": "b6bebbea-a0df-4203-850f-e1ad5f70e14e",
   "metadata": {},
   "outputs": [],
   "source": [
    "X_log_std = normPeakTable(X_log, 'autoscaling', based='metabolites')"
   ]
  },
  {
   "cell_type": "code",
   "execution_count": null,
   "id": "eab060d6-828e-4a7e-9ac5-b2a9384e9c28",
   "metadata": {},
   "outputs": [],
   "source": [
    "boxplot_first_distributions_metabolites(X_log_std, n=100)"
   ]
  },
  {
   "cell_type": "markdown",
   "id": "ac971f43-594d-40d6-aa0c-6d04c250d3e6",
   "metadata": {},
   "source": [
    "<div class=\"alert alert-block alert-info\">\n",
    "The features' ranges make the comparision possible."
   ]
  },
  {
   "cell_type": "code",
   "execution_count": null,
   "id": "eb1ddc91-3c3a-4334-b5f4-c0b3baa8d3d5",
   "metadata": {},
   "outputs": [],
   "source": [
    "metadata2 = metadata.drop(axis = 0, index = [276, 277])"
   ]
  },
  {
   "cell_type": "code",
   "execution_count": null,
   "id": "b68bbb98-2319-4637-bcb6-b93ae7442e22",
   "metadata": {},
   "outputs": [],
   "source": [
    "X_log_std.index = metadata2.index\n",
    "X_log_std.drop(axis = 1, index = 0)\n",
    "X_log_std_meta = pd.concat([metadata2, X_log_std], axis=1, join = 'outer' )"
   ]
  },
  {
   "cell_type": "code",
   "execution_count": null,
   "id": "9ce066cf-4369-44fc-898e-f66c8d8ccc03",
   "metadata": {},
   "outputs": [],
   "source": [
    "filename = 'intensities_decorrel_log_std.csv'\n",
    "X_log_std_meta.to_csv(os.path.join(path_peakTable_imputed, filename), index = True, header=True)\n",
    "print(f'Imputed peak table {filename} saved in {path_peakTable_imputed}\\n')"
   ]
  },
  {
   "cell_type": "markdown",
   "id": "19990f72-2a42-499e-8b28-96669dd0dc8a",
   "metadata": {},
   "source": [
    "<div class=\"alert alert-block alert-info\">\n",
    "In case you want to open the decorrelated values, uncomment the following lines"
   ]
  },
  {
   "cell_type": "code",
   "execution_count": null,
   "id": "3c4d65fb-839a-4550-8f14-6bae09d6453c",
   "metadata": {},
   "outputs": [],
   "source": [
    "peakTable_missing_log = pd.read_csv(\"/home/jovyan/work/data/synthetic_dataset/imputed_peak_tables/intensities_log_std.csv\")\n",
    "peakTable_missing_log.index = metadata2.index\n",
    "peakTable_missing_log = peakTable_missing_log.drop(columns = 'Unnamed: 0', axis = 1)"
   ]
  },
  {
   "cell_type": "code",
   "execution_count": null,
   "id": "261d6a60-b6e8-48a2-a483-44af1c9fe9a5",
   "metadata": {},
   "outputs": [],
   "source": [
    "#peakTable_missing_log = pd.read_csv(\"/home/jovyan/work/data/synthetic_dataset/imputed_peak_tables/intensities_decorrel_log_std.csv\")\n",
    "#peakTable_missing_log.index = metadata2.index\n",
    "#peakTable_missing_log = peakTable_missing_log.drop(columns = 'Unnamed: 0', axis = 1)"
   ]
  },
  {
   "cell_type": "code",
   "execution_count": null,
   "id": "ff7fcbc0-44d4-4bde-b3c5-deb0310997a6",
   "metadata": {},
   "outputs": [],
   "source": [
    "peakTable_missing_log.index = metadata2.index"
   ]
  }
 ],
 "metadata": {
  "kernelspec": {
   "display_name": "Python 3 (ipykernel)",
   "language": "python",
   "name": "python3"
  },
  "language_info": {
   "codemirror_mode": {
    "name": "ipython",
    "version": 3
   },
   "file_extension": ".py",
   "mimetype": "text/x-python",
   "name": "python",
   "nbconvert_exporter": "python",
   "pygments_lexer": "ipython3",
   "version": "3.7.9"
  }
 },
 "nbformat": 4,
 "nbformat_minor": 5
}
